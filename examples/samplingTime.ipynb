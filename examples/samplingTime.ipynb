{
 "cells": [
  {
   "attachments": {},
   "cell_type": "markdown",
   "metadata": {},
   "source": [
    "# Muestreo del SDR"
   ]
  },
  {
   "attachments": {},
   "cell_type": "markdown",
   "metadata": {},
   "source": [
    "Se realiza un muestreo de 1 minuto en el SDR, para emular un recorrido, en este caso, el muestreo puede durar una cantidad de tiempo cualquiera. En este caso solo se utilizará un tiempo ilustrativo."
   ]
  },
  {
   "attachments": {},
   "cell_type": "markdown",
   "metadata": {},
   "source": [
    "Se importan las siguientes librerías:"
   ]
  },
  {
   "cell_type": "code",
   "execution_count": 1,
   "metadata": {},
   "outputs": [],
   "source": [
    "import numpy as np\n",
    "from rtlsdr import RtlSdr\n",
    "import pandas as pd\n",
    "import time"
   ]
  },
  {
   "attachments": {},
   "cell_type": "markdown",
   "metadata": {},
   "source": [
    "Configuración del SDR"
   ]
  },
  {
   "cell_type": "code",
   "execution_count": 2,
   "metadata": {},
   "outputs": [
    {
     "name": "stderr",
     "output_type": "stream",
     "text": [
      "Found Fitipower FC0012 tuner\n"
     ]
    }
   ],
   "source": [
    "sdr = RtlSdr()\n",
    "sdr.sample_rate = 2.4e6\n",
    "sdr.center_freq = 95e6\n",
    "sdr.gain = 'auto'"
   ]
  },
  {
   "attachments": {},
   "cell_type": "markdown",
   "metadata": {},
   "source": [
    "Se crea una lista que almacena datos, y luego se setean los parámetros del muestreo a realizar."
   ]
  },
  {
   "cell_type": "code",
   "execution_count": 3,
   "metadata": {},
   "outputs": [],
   "source": [
    "data = []\n",
    "samplingTime = 60\n",
    "samplingInterv = 2\n",
    "samplesQuant = samplingTime // samplingInterv"
   ]
  },
  {
   "attachments": {},
   "cell_type": "markdown",
   "metadata": {},
   "source": [
    "Bucle que realiza el muestreo de un minuto."
   ]
  },
  {
   "cell_type": "code",
   "execution_count": 4,
   "metadata": {},
   "outputs": [],
   "source": [
    "for _ in range(samplesQuant):\n",
    "    # Obtiene el horario actual\n",
    "    actualTime = time.strftime('%Y-%m-%d %H:%M:%S', time.localtime())\n",
    "    # Captura las muestras\n",
    "    samples = sdr.read_samples(256 * 1024)\n",
    "    # Almacena los datos en la lista\n",
    "    data.append((actualTime, samples))\n",
    "    # Espera el intervalo de tiempo antes de tomar la siguiente muestra\n",
    "    time.sleep(samplingInterv)"
   ]
  },
  {
   "attachments": {},
   "cell_type": "markdown",
   "metadata": {},
   "source": [
    "Luego se cierra el dispositivo SDR."
   ]
  },
  {
   "cell_type": "code",
   "execution_count": 5,
   "metadata": {},
   "outputs": [],
   "source": [
    "sdr.close()"
   ]
  },
  {
   "attachments": {},
   "cell_type": "markdown",
   "metadata": {},
   "source": [
    "Se convierte la lista de datos en un dataframe. Y luego se exporta el dataFrame a un archivo de excel."
   ]
  },
  {
   "cell_type": "code",
   "execution_count": 10,
   "metadata": {},
   "outputs": [
    {
     "data": {
      "text/html": [
       "<div>\n",
       "<style scoped>\n",
       "    .dataframe tbody tr th:only-of-type {\n",
       "        vertical-align: middle;\n",
       "    }\n",
       "\n",
       "    .dataframe tbody tr th {\n",
       "        vertical-align: top;\n",
       "    }\n",
       "\n",
       "    .dataframe thead th {\n",
       "        text-align: right;\n",
       "    }\n",
       "</style>\n",
       "<table border=\"1\" class=\"dataframe\">\n",
       "  <thead>\n",
       "    <tr style=\"text-align: right;\">\n",
       "      <th></th>\n",
       "      <th>Horario</th>\n",
       "      <th>Muestras</th>\n",
       "    </tr>\n",
       "  </thead>\n",
       "  <tbody>\n",
       "    <tr>\n",
       "      <th>0</th>\n",
       "      <td>2023-06-01 14:57:58</td>\n",
       "      <td>[(-0.7960784313725491+0.04313725490196085j), (...</td>\n",
       "    </tr>\n",
       "    <tr>\n",
       "      <th>1</th>\n",
       "      <td>2023-06-01 14:58:00</td>\n",
       "      <td>[(0.15294117647058814-0.28627450980392155j), (...</td>\n",
       "    </tr>\n",
       "    <tr>\n",
       "      <th>2</th>\n",
       "      <td>2023-06-01 14:58:02</td>\n",
       "      <td>[(1-0.7254901960784313j), (0.09019607843137245...</td>\n",
       "    </tr>\n",
       "    <tr>\n",
       "      <th>3</th>\n",
       "      <td>2023-06-01 14:58:04</td>\n",
       "      <td>[(-1+0.5294117647058822j), (1-1j), (1-1j), (-0...</td>\n",
       "    </tr>\n",
       "    <tr>\n",
       "      <th>4</th>\n",
       "      <td>2023-06-01 14:58:06</td>\n",
       "      <td>[(1-1j), (0.05882352941176472+0.78823529411764...</td>\n",
       "    </tr>\n",
       "    <tr>\n",
       "      <th>5</th>\n",
       "      <td>2023-06-01 14:58:08</td>\n",
       "      <td>[(1+1j), (-1-0.9372549019607843j), (-1-1j), (1...</td>\n",
       "    </tr>\n",
       "    <tr>\n",
       "      <th>6</th>\n",
       "      <td>2023-06-01 14:58:10</td>\n",
       "      <td>[(0.6549019607843136+0.050980392156862786j), (...</td>\n",
       "    </tr>\n",
       "    <tr>\n",
       "      <th>7</th>\n",
       "      <td>2023-06-01 14:58:12</td>\n",
       "      <td>[(-0.7568627450980392-0.8588235294117648j), (-...</td>\n",
       "    </tr>\n",
       "    <tr>\n",
       "      <th>8</th>\n",
       "      <td>2023-06-01 14:58:15</td>\n",
       "      <td>[(1-1j), (1-0.788235294117647j), (0.2627450980...</td>\n",
       "    </tr>\n",
       "    <tr>\n",
       "      <th>9</th>\n",
       "      <td>2023-06-01 14:58:17</td>\n",
       "      <td>[(0.3647058823529412-0.09019607843137256j), (1...</td>\n",
       "    </tr>\n",
       "    <tr>\n",
       "      <th>10</th>\n",
       "      <td>2023-06-01 14:58:19</td>\n",
       "      <td>[(1-1j), (0.6784313725490196-0.686274509803921...</td>\n",
       "    </tr>\n",
       "    <tr>\n",
       "      <th>11</th>\n",
       "      <td>2023-06-01 14:58:21</td>\n",
       "      <td>[(-0.11372549019607847+0.7647058823529411j), (...</td>\n",
       "    </tr>\n",
       "    <tr>\n",
       "      <th>12</th>\n",
       "      <td>2023-06-01 14:58:23</td>\n",
       "      <td>[(-1+0.0352941176470587j), (1-0.55294117647058...</td>\n",
       "    </tr>\n",
       "    <tr>\n",
       "      <th>13</th>\n",
       "      <td>2023-06-01 14:58:25</td>\n",
       "      <td>[(1+1j), (-1-1j), (-1-1j), (1-0.51372549019607...</td>\n",
       "    </tr>\n",
       "    <tr>\n",
       "      <th>14</th>\n",
       "      <td>2023-06-01 14:58:27</td>\n",
       "      <td>[(0.5137254901960784+0.6392156862745098j), (1+...</td>\n",
       "    </tr>\n",
       "    <tr>\n",
       "      <th>15</th>\n",
       "      <td>2023-06-01 14:58:29</td>\n",
       "      <td>[(1+1j), (0.39607843137254894+0.81960784313725...</td>\n",
       "    </tr>\n",
       "    <tr>\n",
       "      <th>16</th>\n",
       "      <td>2023-06-01 14:58:32</td>\n",
       "      <td>[(0.7882352941176469-0.23921568627450984j), (-...</td>\n",
       "    </tr>\n",
       "    <tr>\n",
       "      <th>17</th>\n",
       "      <td>2023-06-01 14:58:34</td>\n",
       "      <td>[(-0.9137254901960784-0.45882352941176474j), (...</td>\n",
       "    </tr>\n",
       "    <tr>\n",
       "      <th>18</th>\n",
       "      <td>2023-06-01 14:58:36</td>\n",
       "      <td>[(0.19215686274509802+0.4039215686274509j), (1...</td>\n",
       "    </tr>\n",
       "    <tr>\n",
       "      <th>19</th>\n",
       "      <td>2023-06-01 14:58:38</td>\n",
       "      <td>[(-0.019607843137254943-1j), (1+0.443137254901...</td>\n",
       "    </tr>\n",
       "    <tr>\n",
       "      <th>20</th>\n",
       "      <td>2023-06-01 14:58:40</td>\n",
       "      <td>[(1+1j), (0.7568627450980392+0.780392156862745...</td>\n",
       "    </tr>\n",
       "    <tr>\n",
       "      <th>21</th>\n",
       "      <td>2023-06-01 14:58:42</td>\n",
       "      <td>[(0.5764705882352941-1j), (0.4117647058823528+...</td>\n",
       "    </tr>\n",
       "    <tr>\n",
       "      <th>22</th>\n",
       "      <td>2023-06-01 14:58:44</td>\n",
       "      <td>[(1-0.027450980392156876j), (-1+1j), (-1+1j), ...</td>\n",
       "    </tr>\n",
       "    <tr>\n",
       "      <th>23</th>\n",
       "      <td>2023-06-01 14:58:46</td>\n",
       "      <td>[(1-1j), (-0.24705882352941178+1j), (0.1058823...</td>\n",
       "    </tr>\n",
       "    <tr>\n",
       "      <th>24</th>\n",
       "      <td>2023-06-01 14:58:48</td>\n",
       "      <td>[(1-0.8196078431372549j), (1-0.349019607843137...</td>\n",
       "    </tr>\n",
       "    <tr>\n",
       "      <th>25</th>\n",
       "      <td>2023-06-01 14:58:51</td>\n",
       "      <td>[(-0.5764705882352941-1j), (1+0.89019607843137...</td>\n",
       "    </tr>\n",
       "    <tr>\n",
       "      <th>26</th>\n",
       "      <td>2023-06-01 14:58:53</td>\n",
       "      <td>[(-0.6627450980392157-1j), (0.8745098039215686...</td>\n",
       "    </tr>\n",
       "    <tr>\n",
       "      <th>27</th>\n",
       "      <td>2023-06-01 14:58:55</td>\n",
       "      <td>[(0.8823529411764706-0.8431372549019608j), (1-...</td>\n",
       "    </tr>\n",
       "    <tr>\n",
       "      <th>28</th>\n",
       "      <td>2023-06-01 14:58:57</td>\n",
       "      <td>[(1-0.24705882352941178j), (1+1j), (-0.3333333...</td>\n",
       "    </tr>\n",
       "    <tr>\n",
       "      <th>29</th>\n",
       "      <td>2023-06-01 14:58:59</td>\n",
       "      <td>[(1-1j), (1-1j), (-0.592156862745098+0.7647058...</td>\n",
       "    </tr>\n",
       "  </tbody>\n",
       "</table>\n",
       "</div>"
      ],
      "text/plain": [
       "                Horario                                           Muestras\n",
       "0   2023-06-01 14:57:58  [(-0.7960784313725491+0.04313725490196085j), (...\n",
       "1   2023-06-01 14:58:00  [(0.15294117647058814-0.28627450980392155j), (...\n",
       "2   2023-06-01 14:58:02  [(1-0.7254901960784313j), (0.09019607843137245...\n",
       "3   2023-06-01 14:58:04  [(-1+0.5294117647058822j), (1-1j), (1-1j), (-0...\n",
       "4   2023-06-01 14:58:06  [(1-1j), (0.05882352941176472+0.78823529411764...\n",
       "5   2023-06-01 14:58:08  [(1+1j), (-1-0.9372549019607843j), (-1-1j), (1...\n",
       "6   2023-06-01 14:58:10  [(0.6549019607843136+0.050980392156862786j), (...\n",
       "7   2023-06-01 14:58:12  [(-0.7568627450980392-0.8588235294117648j), (-...\n",
       "8   2023-06-01 14:58:15  [(1-1j), (1-0.788235294117647j), (0.2627450980...\n",
       "9   2023-06-01 14:58:17  [(0.3647058823529412-0.09019607843137256j), (1...\n",
       "10  2023-06-01 14:58:19  [(1-1j), (0.6784313725490196-0.686274509803921...\n",
       "11  2023-06-01 14:58:21  [(-0.11372549019607847+0.7647058823529411j), (...\n",
       "12  2023-06-01 14:58:23  [(-1+0.0352941176470587j), (1-0.55294117647058...\n",
       "13  2023-06-01 14:58:25  [(1+1j), (-1-1j), (-1-1j), (1-0.51372549019607...\n",
       "14  2023-06-01 14:58:27  [(0.5137254901960784+0.6392156862745098j), (1+...\n",
       "15  2023-06-01 14:58:29  [(1+1j), (0.39607843137254894+0.81960784313725...\n",
       "16  2023-06-01 14:58:32  [(0.7882352941176469-0.23921568627450984j), (-...\n",
       "17  2023-06-01 14:58:34  [(-0.9137254901960784-0.45882352941176474j), (...\n",
       "18  2023-06-01 14:58:36  [(0.19215686274509802+0.4039215686274509j), (1...\n",
       "19  2023-06-01 14:58:38  [(-0.019607843137254943-1j), (1+0.443137254901...\n",
       "20  2023-06-01 14:58:40  [(1+1j), (0.7568627450980392+0.780392156862745...\n",
       "21  2023-06-01 14:58:42  [(0.5764705882352941-1j), (0.4117647058823528+...\n",
       "22  2023-06-01 14:58:44  [(1-0.027450980392156876j), (-1+1j), (-1+1j), ...\n",
       "23  2023-06-01 14:58:46  [(1-1j), (-0.24705882352941178+1j), (0.1058823...\n",
       "24  2023-06-01 14:58:48  [(1-0.8196078431372549j), (1-0.349019607843137...\n",
       "25  2023-06-01 14:58:51  [(-0.5764705882352941-1j), (1+0.89019607843137...\n",
       "26  2023-06-01 14:58:53  [(-0.6627450980392157-1j), (0.8745098039215686...\n",
       "27  2023-06-01 14:58:55  [(0.8823529411764706-0.8431372549019608j), (1-...\n",
       "28  2023-06-01 14:58:57  [(1-0.24705882352941178j), (1+1j), (-0.3333333...\n",
       "29  2023-06-01 14:58:59  [(1-1j), (1-1j), (-0.592156862745098+0.7647058..."
      ]
     },
     "execution_count": 10,
     "metadata": {},
     "output_type": "execute_result"
    }
   ],
   "source": [
    "df = pd.DataFrame(data, columns=['Horario', 'Muestras'])\n",
    "df.to_excel(\"muestreoSDR.xlsx\", index=False)\n",
    "df"
   ]
  }
 ],
 "metadata": {
  "kernelspec": {
   "display_name": "base",
   "language": "python",
   "name": "python3"
  },
  "language_info": {
   "codemirror_mode": {
    "name": "ipython",
    "version": 3
   },
   "file_extension": ".py",
   "mimetype": "text/x-python",
   "name": "python",
   "nbconvert_exporter": "python",
   "pygments_lexer": "ipython3",
   "version": "3.11.2"
  },
  "orig_nbformat": 4
 },
 "nbformat": 4,
 "nbformat_minor": 2
}
