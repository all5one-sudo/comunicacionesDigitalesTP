{
 "cells": [
  {
   "cell_type": "markdown",
   "metadata": {},
   "source": [
    "## RSSI\n",
    "\n",
    "Es una medida de la intensidad de la señal de radio entre un transmisor y un receptor. Las siglas indican `Received Signal Strength Indicator`. Es una función de seguridad importante para evitar perder el contacto de radio.\n",
    "\n",
    "La escala tiende al valor 0 como centro, y representa $0 \\ dBm$, valor que es igual a $1 \\ mW$.\n",
    "\n",
    "### Interpretación de los valores\n",
    "\n",
    "- $0$: señal ideal, difícil de lograr en la práctica.\n",
    "- $-40$ a $-60$: señal idónea, con tasas de transferencia estables.\n",
    "- $-60$: enlace bueno, ajustando la transimisión Tx se puede lograr una conexión estable al 80%.\n",
    "- $-70$: enlace medio-bajo: es una señal medianamente buena, aunque se pueden sufrir problemas con lluvia y/o viento.\n",
    "- $-80$: es la señal mínima aceptable para establecer la conexión, pueden ocurrir caídas que se traducen en corte de comunicación (pérdida de llamada, pérdida de datos), mensajes sms corruptos, etc.\n",
    "\n",
    "El rango de valores no se encuentra estandarizado y tiene diferentes interpretaciones en función de la aplicación.\n",
    "\n",
    "### Equivalencias dBm\n",
    "\n",
    "La siguiente es una tabla de equivalencias aproximadas para averiguar el nivel de cobertura en función de los dBm recibidos en el aire:\n",
    "\n",
    "- Menos de $-76\\ dBm$ (valores más cercanos a 0): excelente.\n",
    "- Entre $-89$ y $-77$: muy buena.\n",
    "- Entre $-97$ y $-90$: buena/media.\n",
    "- Entre $-103$ y $-98$: baja cobertura.\n",
    "- Entre $-112$ y $-104$: bajísima cobertura.\n",
    "- Entre $-113$ y $-132$: muy poca cobertura.\n",
    "- A partir de $-135$: sin cobertura\n",
    " "
   ]
  }
 ],
 "metadata": {
  "language_info": {
   "name": "python"
  },
  "orig_nbformat": 4
 },
 "nbformat": 4,
 "nbformat_minor": 2
}
